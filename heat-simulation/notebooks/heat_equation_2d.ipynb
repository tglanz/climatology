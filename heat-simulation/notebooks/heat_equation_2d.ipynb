{
 "cells": [
  {
   "cell_type": "markdown",
   "metadata": {},
   "source": "# 2D Heat Equation Simulation\n\nSimulates the 2D heat diffusion equation using FTCS (Forward-Time Central-Space) method.\n\nEquation: $\\frac{\\partial u}{\\partial t} = \\alpha \\nabla^2 u = \\alpha \\left(\\frac{\\partial^2 u}{\\partial x^2} + \\frac{\\partial^2 u}{\\partial y^2}\\right)$\n\n- Boundary conditions: Neumann (zero flux)\n- Heat source: Continuous source in middle-left region"
  },
  {
   "cell_type": "code",
   "execution_count": null,
   "metadata": {},
   "outputs": [],
   "source": "import numpy as np\nimport matplotlib.pyplot as plt\nfrom matplotlib.animation import FuncAnimation\nfrom IPython.display import HTML\nfrom tqdm.notebook import tqdm"
  },
  {
   "cell_type": "markdown",
   "metadata": {},
   "source": [
    "## Configuration Parameters"
   ]
  },
  {
   "cell_type": "code",
   "execution_count": null,
   "metadata": {},
   "outputs": [],
   "source": "# Grid dimensions\nNX = 64  # Number of grid points in x-direction\nNY = 64  # Number of grid points in y-direction\n\n# Physical parameters\nALPHA = 0.01  # Thermal diffusivity (controls rate of heat spreading)\nDT = 0.01     # Time step size \\Delta t\n\n# Simulation parameters\nNUM_STEPS = 1000  # Total number of time steps to simulate\n\n# Heat source parameters\nSOURCE_TEMP = 100.0  # Temperature of the continuous heat source\nSOURCE_SIZE = 5      # Size of heat source region (in grid cells)\nSOURCE_X = NY // 2   # x-coordinate of heat source center\nSOURCE_Y = NX // 4   # y-coordinate of heat source center (left quarter)"
  },
  {
   "cell_type": "markdown",
   "metadata": {},
   "source": [
    "## Initialize Grid"
   ]
  },
  {
   "cell_type": "code",
   "execution_count": null,
   "metadata": {},
   "outputs": [],
   "source": [
    "u = np.zeros((NX, NY))\n",
    "u_new = np.zeros((NX, NY))"
   ]
  },
  {
   "cell_type": "markdown",
   "metadata": {},
   "source": "## FTCS Time Step Function with Neumann Boundary Conditions\n\nThe FTCS method uses the following finite difference approximations:\n\n**Time derivative (Forward difference):**\n\n$$\\frac{\\partial u}{\\partial t} \\approx \\frac{u_{i,j}^{n+1} - u_{i,j}^{n}}{\\Delta t}$$\n\n**Spatial derivatives (Central difference):**\n\n$$\\frac{\\partial^2 u}{\\partial x^2} \\approx \\frac{u_{i+1,j}^{n} - 2u_{i,j}^{n} + u_{i-1,j}^{n}}{\\Delta x^2}$$\n\n$$\\frac{\\partial^2 u}{\\partial y^2} \\approx \\frac{u_{i,j+1}^{n} - 2u_{i,j}^{n} + u_{i,j-1}^{n}}{\\Delta y^2}$$\n\n**Update formula:**\n\n$$u_{i,j}^{n+1} = u_{i,j}^{n} + r_x \\left(u_{i+1,j}^{n} - 2u_{i,j}^{n} + u_{i-1,j}^{n}\\right) + r_y \\left(u_{i,j+1}^{n} - 2u_{i,j}^{n} + u_{i,j-1}^{n}\\right)$$\n\nwhere $r_x = \\frac{\\alpha \\Delta t}{\\Delta x^2}$ and $r_y = \\frac{\\alpha \\Delta t}{\\Delta y^2}$\n\n**Stability condition:** $r_x + r_y < 0.5$"
  },
  {
   "cell_type": "code",
   "execution_count": null,
   "metadata": {},
   "outputs": [],
   "source": [
    "def ftcs_step(u, u_new, alpha, dt, dx=1.0, dy=1.0):\n",
    "    nx, ny = u.shape\n",
    "    \n",
    "    rx = alpha * dt / (dx * dx)\n",
    "    ry = alpha * dt / (dy * dy)\n",
    "    \n",
    "    for i in range(nx):\n",
    "        for j in range(ny):\n",
    "            u_xx = 0.0\n",
    "            u_yy = 0.0\n",
    "            \n",
    "            if i == 0:\n",
    "                u_xx = u[i+1, j] - u[i, j]\n",
    "            elif i == nx - 1:\n",
    "                u_xx = u[i-1, j] - u[i, j]\n",
    "            else:\n",
    "                u_xx = u[i+1, j] - 2*u[i, j] + u[i-1, j]\n",
    "            \n",
    "            if j == 0:\n",
    "                u_yy = u[i, j+1] - u[i, j]\n",
    "            elif j == ny - 1:\n",
    "                u_yy = u[i, j-1] - u[i, j]\n",
    "            else:\n",
    "                u_yy = u[i, j+1] - 2*u[i, j] + u[i, j-1]\n",
    "            \n",
    "            u_new[i, j] = u[i, j] + rx * u_xx + ry * u_yy\n",
    "    \n",
    "    return u_new"
   ]
  },
  {
   "cell_type": "markdown",
   "metadata": {},
   "source": [
    "## Apply Continuous Heat Source"
   ]
  },
  {
   "cell_type": "code",
   "execution_count": null,
   "metadata": {},
   "outputs": [],
   "source": [
    "def apply_heat_source(u, source_temp, source_x, source_y, source_size):\n",
    "    half_size = source_size // 2\n",
    "    x_start = max(0, source_x - half_size)\n",
    "    x_end = min(u.shape[0], source_x + half_size + 1)\n",
    "    y_start = max(0, source_y - half_size)\n",
    "    y_end = min(u.shape[1], source_y + half_size + 1)\n",
    "    \n",
    "    u[x_start:x_end, y_start:y_end] = source_temp"
   ]
  },
  {
   "cell_type": "markdown",
   "metadata": {},
   "source": [
    "## Run Simulation"
   ]
  },
  {
   "cell_type": "code",
   "execution_count": null,
   "metadata": {},
   "outputs": [],
   "source": "snapshots = []\nsnapshot_times = [0, NUM_STEPS//4, NUM_STEPS//2, 3*NUM_STEPS//4, NUM_STEPS-1]\n\nsnapshots.append(u.copy())\n\nfor step in tqdm(range(NUM_STEPS), desc=\"Running simulation\"):\n    u_new = ftcs_step(u, u_new, ALPHA, DT)\n    \n    apply_heat_source(u_new, SOURCE_TEMP, SOURCE_X, SOURCE_Y, SOURCE_SIZE)\n    \n    u, u_new = u_new, u\n    \n    if step in snapshot_times:\n        snapshots.append(u.copy())\n\nprint(f\"Simulation complete: {NUM_STEPS} steps\")\nprint(f\"Stability criterion (r_x + r_y < 0.5): {ALPHA * DT * 2:.4f}\")"
  },
  {
   "cell_type": "markdown",
   "metadata": {},
   "source": [
    "## Snapshot Visualization"
   ]
  },
  {
   "cell_type": "code",
   "execution_count": null,
   "metadata": {},
   "outputs": [],
   "source": [
    "fig, axes = plt.subplots(2, 3, figsize=(15, 10))\n",
    "axes = axes.flatten()\n",
    "\n",
    "times = [0] + snapshot_times\n",
    "\n",
    "for idx, (ax, snapshot, time) in enumerate(zip(axes, snapshots, times)):\n",
    "    im = ax.imshow(snapshot, cmap='hot', origin='lower', vmin=0, vmax=SOURCE_TEMP)\n",
    "    ax.set_title(f'Time step: {time}')\n",
    "    ax.set_xlabel('X')\n",
    "    ax.set_ylabel('Y')\n",
    "    plt.colorbar(im, ax=ax, label='Temperature')\n",
    "\n",
    "plt.tight_layout()\n",
    "plt.show()"
   ]
  },
  {
   "cell_type": "markdown",
   "metadata": {},
   "source": [
    "## Animation"
   ]
  },
  {
   "cell_type": "code",
   "execution_count": null,
   "metadata": {},
   "outputs": [],
   "source": "u_anim = np.zeros((NX, NY))\nu_new_anim = np.zeros((NX, NY))\n\nframes = []\nframe_interval = max(1, NUM_STEPS // 200)\n\nfor step in tqdm(range(NUM_STEPS), desc=\"Generating animation frames\"):\n    u_new_anim = ftcs_step(u_anim, u_new_anim, ALPHA, DT)\n    apply_heat_source(u_new_anim, SOURCE_TEMP, SOURCE_X, SOURCE_Y, SOURCE_SIZE)\n    u_anim, u_new_anim = u_new_anim, u_anim\n    \n    if step % frame_interval == 0:\n        frames.append(u_anim.copy())\n\nfig, ax = plt.subplots(figsize=(8, 8))\nim = ax.imshow(frames[0], cmap='hot', origin='lower', vmin=0, vmax=SOURCE_TEMP)\nax.set_xlabel('X')\nax.set_ylabel('Y')\nplt.colorbar(im, ax=ax, label='Temperature')\ntitle = ax.set_title('Time step: 0')\n\ndef update(frame_idx):\n    im.set_array(frames[frame_idx])\n    title.set_text(f'Time step: {frame_idx * frame_interval}')\n    return [im, title]\n\nanim = FuncAnimation(fig, update, frames=len(frames), interval=50, blit=True)\nplt.close()\n\nHTML(anim.to_jshtml())"
  }
 ],
 "metadata": {
  "kernelspec": {
   "display_name": "Python 3",
   "language": "python",
   "name": "python3"
  },
  "language_info": {
   "codemirror_mode": {
    "name": "ipython",
    "version": 3
   },
   "file_extension": ".py",
   "mimetype": "text/x-python",
   "name": "python",
   "nbconvert_exporter": "python",
   "pygments_lexer": "ipython3",
   "version": "3.13.7"
  }
 },
 "nbformat": 4,
 "nbformat_minor": 4
}